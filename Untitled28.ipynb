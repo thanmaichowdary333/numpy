{
  "nbformat": 4,
  "nbformat_minor": 0,
  "metadata": {
    "colab": {
      "provenance": []
    },
    "kernelspec": {
      "name": "python3",
      "display_name": "Python 3"
    },
    "language_info": {
      "name": "python"
    }
  },
  "cells": [
    {
      "cell_type": "markdown",
      "source": [
        "Getting Familiar with Numpy:"
      ],
      "metadata": {
        "id": "50j8GCijpld1"
      }
    },
    {
      "cell_type": "code",
      "source": [
        "import numpy as np\n",
        "# Creating arrays\n",
        "array_1d=np.array([1, 2, 3, 4, 5])\n",
        "array_2d=np.array([[1, 2, 3], [4, 5, 6], [7, 8, 9]])\n",
        "print(\"1D Array:\")\n",
        "print(array_1d)\n",
        "print(\"\\n2D Array:\")\n",
        "print(array_2d)\n",
        "\n",
        "# Basic operations\n",
        "array_sum=array_1d + 5\n",
        "array_product=array_2d * 2\n",
        "\n",
        "print(\"1D Array addition:\",array_sum)\n",
        "print(\"2D Array multiplication:\",array_product)\n",
        "\n",
        "# Understanding array properties\n",
        "print(f\"Shape of array_2d:{array_2d.shape}\")\n",
        "print(f\"Number of dimension: {array_2d.ndim}\")\n",
        "print(f\"Data type (dtype):{array_2d.dtype}\")\n"
      ],
      "metadata": {
        "colab": {
          "base_uri": "https://localhost:8080/",
          "height": 0
        },
        "id": "v7Wz5uhbleCu",
        "outputId": "fcc0e444-bdc3-4db0-cad7-dfe6a3a71c9d"
      },
      "execution_count": 6,
      "outputs": [
        {
          "output_type": "stream",
          "name": "stdout",
          "text": [
            "1D Array:\n",
            "[1 2 3 4 5]\n",
            "\n",
            "2D Array:\n",
            "[[1 2 3]\n",
            " [4 5 6]\n",
            " [7 8 9]]\n",
            "1D Array addition: [ 6  7  8  9 10]\n",
            "2D Array multiplication: [[ 2  4  6]\n",
            " [ 8 10 12]\n",
            " [14 16 18]]\n",
            "Shape of array_2d:(3, 3)\n",
            "Number of dimension: 2\n",
            "Data type (dtype):int64\n"
          ]
        }
      ]
    },
    {
      "cell_type": "markdown",
      "source": [
        "Data Manipulation:"
      ],
      "metadata": {
        "id": "XZvWRjUZpp3x"
      }
    },
    {
      "cell_type": "code",
      "source": [
        "# Array creation\n",
        "data = np.arange(1, 13).reshape(3, 4)\n",
        "print(\"Original Data:\")\n",
        "print(data)\n",
        "# Indexing\n",
        "print(\"Indexing:\",data[1,2])\n",
        "# Slicing\n",
        "print(\"Slicing:\",data[:2,:3])\n",
        "# Reshaping\n",
        "reshaped_data=data.reshape(2,6)\n",
        "print(\"Reshaping:\",reshaped_data)\n",
        "# Mathematical operations\n",
        "squared_data=np.square(data)\n",
        "print(\"squared_data:\",squared_data)\n"
      ],
      "metadata": {
        "colab": {
          "base_uri": "https://localhost:8080/",
          "height": 0
        },
        "id": "xtgb1aggmebx",
        "outputId": "5cf147b7-a94d-43aa-f432-5460764ce36b"
      },
      "execution_count": 8,
      "outputs": [
        {
          "output_type": "stream",
          "name": "stdout",
          "text": [
            "Original Data:\n",
            "[[ 1  2  3  4]\n",
            " [ 5  6  7  8]\n",
            " [ 9 10 11 12]]\n",
            "Indexing: 7\n",
            "Slicing: [[1 2 3]\n",
            " [5 6 7]]\n",
            "Reshaping: [[ 1  2  3  4  5  6]\n",
            " [ 7  8  9 10 11 12]]\n",
            "squared_data: [[  1   4   9  16]\n",
            " [ 25  36  49  64]\n",
            " [ 81 100 121 144]]\n"
          ]
        }
      ]
    },
    {
      "cell_type": "markdown",
      "source": [
        "Data Aggregation:"
      ],
      "metadata": {
        "id": "FYgHUdNOpuHb"
      }
    },
    {
      "cell_type": "code",
      "source": [
        "# Summary statistics\n",
        "mean_value=np.mean(data)\n",
        "median_value=np.median(data)\n",
        "std_dev=np.std(data)\n",
        "total_sum=np.sum(data)\n",
        "\n",
        "print(\"Mean:\",mean_value)\n",
        "print(\"Median:\",median_value)\n",
        "print(\"Standard Deviation:\",std_dev)\n",
        "print(\"Sum:\",total_sum)\n",
        "\n",
        "# Aggregation by axis\n",
        "column_sum=np.sum(data, axis=0)\n",
        "print(\"Sum along columns:\",column_sum)\n",
        "\n",
        "# Aggregation by axis\n",
        "row_mean=np.mean(data, axis=1)\n",
        "print(\"Mean along rows:\",row_mean)\n"
      ],
      "metadata": {
        "colab": {
          "base_uri": "https://localhost:8080/",
          "height": 0
        },
        "id": "pYvPVrjNngK6",
        "outputId": "8cdeb9b7-10ba-4b53-9203-65ed303a7f2c"
      },
      "execution_count": 11,
      "outputs": [
        {
          "output_type": "stream",
          "name": "stdout",
          "text": [
            "Mean: 6.5\n",
            "Median: 6.5\n",
            "Standard Deviation: 3.452052529534663\n",
            "Sum: 78\n",
            "Sum along columns: [15 18 21 24]\n",
            "Mean along rows: [ 2.5  6.5 10.5]\n"
          ]
        }
      ]
    },
    {
      "cell_type": "markdown",
      "source": [
        "Data Analysis:"
      ],
      "metadata": {
        "id": "atEUa0ocpxIt"
      }
    },
    {
      "cell_type": "code",
      "source": [
        "# Correlation matrix\n",
        "data_analysis=np.random.rand(5,4)*100\n",
        "print(\"Random Data for Analysis:\")\n",
        "print(data_analysis)\n",
        "\n",
        "correlation_matrix=np.corrcoef(data_analysis,rowvar=False)\n",
        "print(\"Correlation matrix:\")\n",
        "print(correlation_matrix)\n",
        "\n",
        "# Identifying outliers\n",
        "outliers=data_analysis[data_analysis > 95]\n",
        "print(\"Outliers (values greater than 95):\")\n",
        "print(outliers)\n",
        "\n",
        "# Calculating percentiles\n",
        "percentile_90=np.percentile(data_analysis,90)\n",
        "print(\"\\n90th percentile of the data:\", percentile_90)\n"
      ],
      "metadata": {
        "colab": {
          "base_uri": "https://localhost:8080/",
          "height": 0
        },
        "id": "qmTSzogVoSa0",
        "outputId": "e699f902-28db-4a56-807d-532723f0d733"
      },
      "execution_count": 12,
      "outputs": [
        {
          "output_type": "stream",
          "name": "stdout",
          "text": [
            "Random Data for Analysis:\n",
            "[[90.41738252 25.03520696 84.4245637  78.75438986]\n",
            " [57.62515184 91.19332034 44.24192673 93.18502709]\n",
            " [42.79225067 72.11072347 17.46948076 59.18395666]\n",
            " [55.32592517 21.59475172 54.28004427 54.09002251]\n",
            " [83.90234742 88.2755884  50.52423631 58.09456594]]\n",
            "Correlation matrix:\n",
            "[[ 1.         -0.17444765  0.82873296  0.16802202]\n",
            " [-0.17444765  1.         -0.59189294  0.24578584]\n",
            " [ 0.82873296 -0.59189294  1.          0.27895592]\n",
            " [ 0.16802202  0.24578584  0.27895592  1.        ]]\n",
            "Outliers (values greater than 95):\n",
            "[]\n",
            "\n",
            "90th percentile of the data: 90.4949763027142\n"
          ]
        }
      ]
    },
    {
      "cell_type": "markdown",
      "source": [
        "Advantages of NumPy:\n",
        "\n",
        "\n",
        "Efficiency: NumPy arrays are more memory-efficient and faster than traditional Python lists, especially when dealing with large datasets.\n",
        "\n",
        "Vectorization: NumPy operations are vectorized, which means they are optimized to perform computations on entire arrays without the need for explicit loops, making the code concise and efficient.\n",
        "\n",
        "Broad Functionality: NumPy offers a wide range of functions for linear algebra, random number generation, Fourier transforms, and more, making it versatile for scientific and analytical computing."
      ],
      "metadata": {
        "id": "5ToZvs0ZokwS"
      }
    },
    {
      "cell_type": "markdown",
      "source": [
        "Real-World Applications:\n",
        "\n",
        "\n",
        "Machine Learning: NumPy is used to handle data matrices, calculate gradients, and optimize algorithms, especially in libraries like TensorFlow and PyTorch that are built on top of NumPy arrays.\n",
        "\n",
        "Financial Analysis: In finance, NumPy is used to compute statistical measures, model financial data, and perform simulations like Monte Carlo methods.\n",
        "\n",
        "Scientific Research: Researchers use NumPy to process and analyze experimental data, perform complex calculations, and visualize results."
      ],
      "metadata": {
        "id": "fYtqWW5FovEk"
      }
    }
  ]
}